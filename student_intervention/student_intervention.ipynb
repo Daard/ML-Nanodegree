{
 "cells": [
  {
   "cell_type": "markdown",
   "metadata": {},
   "source": [
    "# Machine Learning Engineer Nanodegree\n",
    "## Supervised Learning\n",
    "## Project 2: Building a Student Intervention System"
   ]
  },
  {
   "cell_type": "markdown",
   "metadata": {},
   "source": [
    "Welcome to the second project of the Machine Learning Engineer Nanodegree! In this notebook, some template code has already been provided for you, and it will be your job to implement the additional functionality necessary to successfully complete this project. Sections that begin with **'Implementation'** in the header indicate that the following block of code will require additional functionality which you must provide. Instructions will be provided for each section and the specifics of the implementation are marked in the code block with a `'TODO'` statement. Please be sure to read the instructions carefully!\n",
    "\n",
    "In addition to implementing code, there will be questions that you must answer which relate to the project and your implementation. Each section where you will answer a question is preceded by a **'Question X'** header. Carefully read each question and provide thorough answers in the following text boxes that begin with **'Answer:'**. Your project submission will be evaluated based on your answers to each of the questions and the implementation you provide.  \n",
    "\n",
    ">**Note:** Code and Markdown cells can be executed using the **Shift + Enter** keyboard shortcut. In addition, Markdown cells can be edited by typically double-clicking the cell to enter edit mode."
   ]
  },
  {
   "cell_type": "markdown",
   "metadata": {},
   "source": [
    "### Question 1 - Classification vs. Regression\n",
    "*Your goal for this project is to identify students who might need early intervention before they fail to graduate. Which type of supervised learning problem is this, classification or regression? Why?*"
   ]
  },
  {
   "cell_type": "markdown",
   "metadata": {},
   "source": [
    "**Answer: Classification. Result is dicrate variable. Data are not continous.**"
   ]
  },
  {
   "cell_type": "markdown",
   "metadata": {},
   "source": [
    "## Exploring the Data\n",
    "Run the code cell below to load necessary Python libraries and load the student data. Note that the last column from this dataset, `'passed'`, will be our target label (whether the student graduated or didn't graduate). All other columns are features about each student."
   ]
  },
  {
   "cell_type": "code",
   "execution_count": 2,
   "metadata": {
    "collapsed": false
   },
   "outputs": [
    {
     "name": "stdout",
     "output_type": "stream",
     "text": [
      "Student data read successfully!\n"
     ]
    }
   ],
   "source": [
    "# Import libraries\n",
    "import numpy as np\n",
    "import pandas as pd\n",
    "from time import time\n",
    "from sklearn.metrics import f1_score\n",
    "\n",
    "# Read student data\n",
    "student_data = pd.read_csv(\"student-data.csv\")\n",
    "print \"Student data read successfully!\""
   ]
  },
  {
   "cell_type": "markdown",
   "metadata": {},
   "source": [
    "### Implementation: Data Exploration\n",
    "Let's begin by investigating the dataset to determine how many students we have information on, and learn about the graduation rate among these students. In the code cell below, you will need to compute the following:\n",
    "- The total number of students, `n_students`.\n",
    "- The total number of features for each student, `n_features`.\n",
    "- The number of those students who passed, `n_passed`.\n",
    "- The number of those students who failed, `n_failed`.\n",
    "- The graduation rate of the class, `grad_rate`, in percent (%).\n"
   ]
  },
  {
   "cell_type": "code",
   "execution_count": 37,
   "metadata": {
    "collapsed": false
   },
   "outputs": [
    {
     "name": "stdout",
     "output_type": "stream",
     "text": [
      "Total number of students: 395\nNumber of features: 30\nNumber of students who passed: 265\nNumber of students who failed: 130\nGraduation rate of the class: 67.09%\n"
     ]
    },
    {
     "data": {
      "text/plain": [
       "<seaborn.axisgrid.FacetGrid at 0x10b3def10>"
      ]
     },
     "execution_count": 37,
     "metadata": {},
     "output_type": "execute_result"
    },
    {
     "data": {
      "image/png": "[encoded data removed]",
      "text/plain": [
       "<matplotlib.figure.Figure at 0x10ace48d0>"
      ]
     },
     "metadata": {},
     "output_type": "display_data"
    }
   ],
   "source": [
    "n_students = len(student_data)\n",
    "\n",
    "n_features = len(student_data.columns[:-1])\n",
    "\n",
    "passed = student_data.loc[student_data['passed'] == 'yes']\n",
    "\n",
    "n_passed = len(passed)\n",
    "\n",
    "n_failed = n_students - n_passed\n",
    "\n",
    "grad_rate = 100.0 * n_passed / n_students\n",
    "\n",
    "# Print the results\n",
    "print \"Total number of students: {}\".format(n_students)\n",
    "print \"Number of features: {}\".format(n_features)\n",
    "print \"Number of students who passed: {}\".format(n_passed)\n",
    "print \"Number of students who failed: {}\".format(n_failed)\n",
    "print \"Graduation rate of the class: {:.2f}%\".format(grad_rate)\n",
    "\n",
    "import seaborn as sns\n",
    "%matplotlib inline\n",
    "# sns.factorplot(\"failures\", col=\"paid\", data=student_data, hue='passed', kind=\"count\")\n",
    "sns.factorplot(x='absences', data=student_data, hue='passed', kind='count')"
   ]
  },
  {
   "cell_type": "markdown",
   "metadata": {},
   "source": [
    "## Preparing the Data\n",
    "In this section, we will prepare the data for modeling, training and testing.\n",
    "\n",
    "### Identify feature and target columns\n",
    "It is often the case that the data you obtain contains non-numeric features. This can be a problem, as most machine learning algorithms expect numeric data to perform computations with.\n",
    "\n",
    "Run the code cell below to separate the student data into feature and target columns to see if any features are non-numeric."
   ]
  },
  {
   "cell_type": "code",
   "execution_count": 11,
   "metadata": {
    "collapsed": false
   },
   "outputs": [
    {
     "name": "stdout",
     "output_type": "stream",
     "text": [
      "Feature columns:\n['school', 'sex', 'age', 'address', 'famsize', 'Pstatus', 'Medu', 'Fedu', 'Mjob', 'Fjob', 'reason', 'guardian', 'traveltime', 'studytime', 'failures', 'schoolsup', 'famsup', 'paid', 'activities', 'nursery', 'higher', 'internet', 'romantic', 'famrel', 'freetime', 'goout', 'Dalc', 'Walc', 'health', 'absences']\n\nTarget column: passed\n\nFeature values:\n  school sex  age address famsize Pstatus  Medu  Fedu     Mjob      Fjob  \\\n0     GP   F   18       U     GT3       A     4     4  at_home   teacher   \n1     GP   F   17       U     GT3       T     1     1  at_home     other   \n2     GP   F   15       U     LE3       T     1     1  at_home     other   \n3     GP   F   15       U     GT3       T     4     2   health  services   \n4     GP   F   16       U     GT3       T     3     3    other     other   \n\n    ...    higher internet  romantic  famrel  freetime goout Dalc Walc health  \\\n0   ...       yes       no        no       4         3     4    1    1      3   \n1   ...       yes      yes        no       5         3     3    1    1      3   \n2   ...       yes      yes        no       4         3     2    2    3      3   \n3   ...       yes      yes       yes       3         2     2    1    1      5   \n4   ...       yes       no        no       4         3     2    1    2      5   \n\n  absences  \n0        6  \n1        4  \n2       10  \n3        2  \n4        4  \n\n[5 rows x 30 columns]\n"
     ]
    }
   ],
   "source": [
    "# Extract feature columns\n",
    "feature_cols = list(student_data.columns[:-1])\n",
    "\n",
    "# Extract target column 'passed'\n",
    "target_col = student_data.columns[-1] \n",
    "\n",
    "# Show the list of columns\n",
    "print \"Feature columns:\\n{}\".format(feature_cols)\n",
    "print \"\\nTarget column: {}\".format(target_col)\n",
    "\n",
    "# Separate the data into feature data and target data (X_all and y_all, respectively)\n",
    "X_all = student_data[feature_cols]\n",
    "y_all = student_data[target_col]\n",
    "\n",
    "# Show the feature information by printing the first five rows\n",
    "print \"\\nFeature values:\"\n",
    "print X_all.head()"
   ]
  },
  {
   "cell_type": "markdown",
   "metadata": {},
   "source": [
    "### Preprocess Feature Columns\n",
    "\n",
    "As you can see, there are several non-numeric columns that need to be converted! Many of them are simply `yes`/`no`, e.g. `internet`. These can be reasonably converted into `1`/`0` (binary) values.\n",
    "\n",
    "Other columns, like `Mjob` and `Fjob`, have more than two values, and are known as _categorical variables_. The recommended way to handle such a column is to create as many columns as possible values (e.g. `Fjob_teacher`, `Fjob_other`, `Fjob_services`, etc.), and assign a `1` to one of them and `0` to all others.\n",
    "\n",
    "These generated columns are sometimes called _dummy variables_, and we will use the [`pandas.get_dummies()`](http://pandas.pydata.org/pandas-docs/stable/generated/pandas.get_dummies.html?highlight=get_dummies#pandas.get_dummies) function to perform this transformation. Run the code cell below to perform the preprocessing routine discussed in this section."
   ]
  },
  {
   "cell_type": "code",
   "execution_count": 12,
   "metadata": {
    "collapsed": false
   },
   "outputs": [
    {
     "name": "stdout",
     "output_type": "stream",
     "text": [
      "Processed feature columns (48 total features):\n['school_GP', 'school_MS', 'sex_F', 'sex_M', 'age', 'address_R', 'address_U', 'famsize_GT3', 'famsize_LE3', 'Pstatus_A', 'Pstatus_T', 'Medu', 'Fedu', 'Mjob_at_home', 'Mjob_health', 'Mjob_other', 'Mjob_services', 'Mjob_teacher', 'Fjob_at_home', 'Fjob_health', 'Fjob_other', 'Fjob_services', 'Fjob_teacher', 'reason_course', 'reason_home', 'reason_other', 'reason_reputation', 'guardian_father', 'guardian_mother', 'guardian_other', 'traveltime', 'studytime', 'failures', 'schoolsup', 'famsup', 'paid', 'activities', 'nursery', 'higher', 'internet', 'romantic', 'famrel', 'freetime', 'goout', 'Dalc', 'Walc', 'health', 'absences']\n"
     ]
    }
   ],
   "source": [
    "def preprocess_features(X):\n",
    "    ''' Preprocesses the student data and converts non-numeric binary variables into\n",
    "        binary (0/1) variables. Converts categorical variables into dummy variables. '''\n",
    "    \n",
    "    # Initialize new output DataFrame\n",
    "    output = pd.DataFrame(index = X.index)\n",
    "\n",
    "    # Investigate each feature column for the data\n",
    "    for col, col_data in X.iteritems():\n",
    "        \n",
    "        # If data type is non-numeric, replace all yes/no values with 1/0\n",
    "        if col_data.dtype == object:\n",
    "            col_data = col_data.replace(['yes', 'no'], [1, 0])\n",
    "\n",
    "        # If data type is categorical, convert to dummy variables\n",
    "        if col_data.dtype == object:\n",
    "            # Example: 'school' => 'school_GP' and 'school_MS'\n",
    "            col_data = pd.get_dummies(col_data, prefix = col)  \n",
    "        \n",
    "        # Collect the revised columns\n",
    "        output = output.join(col_data)\n",
    "    \n",
    "    return output\n",
    "\n",
    "X_all = preprocess_features(X_all)\n",
    "print \"Processed feature columns ({} total features):\\n{}\".format(len(X_all.columns), list(X_all.columns))"
   ]
  },
  {
   "cell_type": "markdown",
   "metadata": {},
   "source": [
    "### Implementation: Training and Testing Data Split\n",
    "So far, we have converted all _categorical_ features into numeric values. For the next step, we split the data (both features and corresponding labels) into training and test sets. In the following code cell below, you will need to implement the following:\n",
    "- Randomly shuffle and split the data (`X_all`, `y_all`) into training and testing subsets.\n",
    "  - Use 300 training points (approximately 75%) and 95 testing points (approximately 25%).\n",
    "  - Set a `random_state` for the function(s) you use, if provided.\n",
    "  - Store the results in `X_train`, `X_test`, `y_train`, and `y_test`."
   ]
  },
  {
   "cell_type": "code",
   "execution_count": 13,
   "metadata": {
    "collapsed": false
   },
   "outputs": [
    {
     "name": "stdout",
     "output_type": "stream",
     "text": [
      "Training set has 300 samples.\nTesting set has 95 samples.\n"
     ]
    }
   ],
   "source": [
    "from sklearn.cross_validation import train_test_split\n",
    "num_train = 300\n",
    "\n",
    "# Set the number of testing points\n",
    "num_test = X_all.shape[0] - num_train\n",
    "\n",
    "X_train, X_test, y_train, y_test = train_test_split(X_all, y_all, test_size=num_test, random_state=0)\n",
    "\n",
    "print y_train\n",
    "# Show the results of the split\n",
    "print \"Training set has {} samples.\".format(X_train.shape[0])\n",
    "print \"Testing set has {} samples.\".format(X_test.shape[0])"
   ]
  },
  {
   "cell_type": "markdown",
   "metadata": {},
   "source": [
    "## Training and Evaluating Models\n",
    "In this section, you will choose 3 supervised learning models that are appropriate for this problem and available in `scikit-learn`. You will first discuss the reasoning behind choosing these three models by considering what you know about the data and each model's strengths and weaknesses. You will then fit the model to varying sizes of training data (100 data points, 200 data points, and 300 data points) and measure the F<sub>1</sub> score. You will need to produce three tables (one for each model) that shows the training set size, training time, prediction time, F<sub>1</sub> score on the training set, and F<sub>1</sub> score on the testing set.\n",
    "\n",
    "**The following supervised learning models are currently available in** [`scikit-learn`](http://scikit-learn.org/stable/supervised_learning.html) **that you may choose from:**\n",
    "- Gaussian Naive Bayes (GaussianNB)\n",
    "- Decision Trees\n",
    "- Ensemble Methods (Bagging, AdaBoost, Random Forest, Gradient Boosting)\n",
    "- K-Nearest Neighbors (KNeighbors)\n",
    "- Stochastic Gradient Descent (SGDC)\n",
    "- Support Vector Machines (SVM)\n",
    "- Logistic Regression"
   ]
  },
  {
   "cell_type": "markdown",
   "metadata": {},
   "source": [
    "### Question 2 - Model Application\n",
    "*List three supervised learning models that are appropriate for this problem. For each model chosen*\n",
    "- Describe one real-world application in industry where the model can be applied. *(You may need to do a small bit of research for this — give references!)* \n",
    "- What are the strengths of the model; when does it perform well? \n",
    "- What are the weaknesses of the model; when does it perform poorly?\n",
    "- What makes this model a good candidate for the problem, given what you know about the data?"
   ]
  },
  {
   "cell_type": "markdown",
   "metadata": {},
   "source": [
    "**Answer: \n",
    "\n",
    "Applications: Spam detection, Image recognition, Gerrymandering.\n",
    "\n",
    "SVM:\n",
    "\n",
    "APPLICATIONS\n",
    "\n",
    "SVMs are helpful in text and hypertext categorization as their application can significantly reduce the need for labeled training instances in both the standard inductive and transductive settings. Classification of images can also be performed using SVMs.Hand-written characters can be recognized using SVM. The SVM algorithm has been widely applied in the biological and other sciences.\n",
    "\n",
    "STRENGTHS\n",
    "\n",
    "Effective in high dimensional spaces. Uses a subset of training points in the decision function (called support vectors), so it is also memory efficient.Versatile: different Kernel functions can be specified for the decision function.\n",
    "\n",
    "WEAKNESSES\n",
    "\n",
    "If the number of features is much greater than the number of samples, the method is likely to give poor performances. SVMs do not directly provide probability estimates, these are calculated using an expensive five-fold cross-validation \n",
    "\n",
    "REASONS FOR CHOOSING\n",
    "Number of feature is smaller then number of samples. A good candidate for the first model.\n",
    "\n",
    "Decision Trees:\n",
    "\n",
    "APPLICATIONS\n",
    "\n",
    "Decision trees are useful for classification and regression in many fields, including Medical diagnosis, Manufacturing, and Insurance.\n",
    "\n",
    "STRENGTHS\n",
    "\n",
    "Decision Trees models are interpretable, and people understand the concept of decision splits.\n",
    "Can exploit high variance by using the decision tree as the base learner to an ensemble model like random forest\n",
    "\n",
    "WEAKNESSES\n",
    "\n",
    "Decision Trees get very complex and overfit on small/medium size datasets.\n",
    "(but we can regularize a decision tree by pruning tree depth or other parameters)\n",
    "\n",
    "REASONS FOR CHOOSING\n",
    "\n",
    "As a non-linear classifier it may be able to predict the data well.\n",
    "Also nice that it can produce a model which can be interpreted by the school board.\n",
    "\n",
    "Ensemble methods:\n",
    "\n",
    "APPLICATIONS\n",
    "\n",
    "Credit scoring, Netflix challenge\n",
    "\n",
    "STRENGTHS\n",
    "\n",
    "On average, the combined estimator is usually better than any of the single base estimator because its variance is reduced.\n",
    "\n",
    "WEAKNESSES\n",
    "\n",
    "If we use the wrong ensemble method for our setting, we are not going to do better. For example, using Bagging with a biased model is not going to help.\n",
    "\n",
    "Also, if we need to work in a probabilistic setting, ensemble methods may not work either. It is known(https://arxiv.org/ftp/arxiv/papers/1207/1207.1403.pdf) that Boosting (in its most popular forms like AdaBoost) delivers poor probability estimates.\n",
    "\n",
    "REASONS FOR CHOOSING\n",
    "\n",
    "The motivation is to combine several weak models to produce a powerful ensemble.\n",
    "\n",
    "**"
   ]
  },
  {
   "cell_type": "markdown",
   "metadata": {},
   "source": [
    "### Setup\n",
    "Run the code cell below to initialize three helper functions which you can use for training and testing the three supervised learning models you've chosen above. The functions are as follows:\n",
    "- `train_classifier` - takes as input a classifier and training data and fits the classifier to the data.\n",
    "- `predict_labels` - takes as input a fit classifier, features, and a target labeling and makes predictions using the F<sub>1</sub> score.\n",
    "- `train_predict` - takes as input a classifier, and the training and testing data, and performs `train_clasifier` and `predict_labels`.\n",
    " - This function will report the F<sub>1</sub> score for both the training and testing data separately."
   ]
  },
  {
   "cell_type": "code",
   "execution_count": 6,
   "metadata": {
    "collapsed": false
   },
   "outputs": [],
   "source": [
    "def train_classifier(clf, X_train, y_train):\n",
    "    ''' Fits a classifier to the training data. '''\n",
    "    \n",
    "    # Start the clock, train the classifier, then stop the clock\n",
    "    start = time()\n",
    "    clf.fit(X_train, y_train)\n",
    "    end = time()\n",
    "    \n",
    "    # Print the results\n",
    "    print \"Trained model in {:.4f} seconds\".format(end - start)\n",
    "\n",
    "    \n",
    "def predict_labels(clf, features, target):\n",
    "    ''' Makes predictions using a fit classifier based on F1 score. '''\n",
    "    \n",
    "    # Start the clock, make predictions, then stop the clock\n",
    "    start = time()\n",
    "    y_pred = clf.predict(features)\n",
    "    end = time()\n",
    "    \n",
    "    # Print and return results\n",
    "    print \"Made predictions in {:.4f} seconds.\".format(end - start)\n",
    "    return f1_score(target.values, y_pred, pos_label='yes')\n",
    "\n",
    "\n",
    "def train_predict(clf, X_train, y_train, X_test, y_test):\n",
    "    ''' Train and predict using a classifer based on F1 score. '''\n",
    "    \n",
    "    # Indicate the classifier and the training set size\n",
    "    print \"Training a {} using a training set size of {}. . .\".format(clf.__class__.__name__, len(X_train))\n",
    "    \n",
    "    # Train the classifier\n",
    "    train_classifier(clf, X_train, y_train)\n",
    "    \n",
    "    # Print the results of prediction for both training and testing\n",
    "    print \"F1 score for training set: {:.4f}.\".format(predict_labels(clf, X_train, y_train))\n",
    "    print \"F1 score for test set: {:.4f}.\".format(predict_labels(clf, X_test, y_test))"
   ]
  },
  {
   "cell_type": "markdown",
   "metadata": {},
   "source": [
    "### Implementation: Model Performance Metrics\n",
    "With the predefined functions above, you will now import the three supervised learning models of your choice and run the `train_predict` function for each one. Remember that you will need to train and predict on each classifier for three different training set sizes: 100, 200, and 300. Hence, you should expect to have 9 different outputs below — 3 for each model using the varying training set sizes. In the following code cell, you will need to implement the following:\n",
    "- Import the three supervised learning models you've discussed in the previous section.\n",
    "- Initialize the three models and store them in `clf_A`, `clf_B`, and `clf_C`.\n",
    " - Use a `random_state` for each model you use, if provided.\n",
    " - **Note:** Use the default settings for each model — you will tune one specific model in a later section.\n",
    "- Create the different training set sizes to be used to train each model.\n",
    " - *Do not reshuffle and resplit the data! The new training points should be drawn from `X_train` and `y_train`.*\n",
    "- Fit each model with each training set size and make predictions on the test set (9 in total).  \n",
    "**Note:** Three tables are provided after the following code cell which can be used to store your results."
   ]
  },
  {
   "cell_type": "code",
   "execution_count": 14,
   "metadata": {
    "collapsed": false
   },
   "outputs": [
    {
     "name": "stdout",
     "output_type": "stream",
     "text": [
      "Training a SVC using a training set size of 100. . .\nTrained model in 0.0016 seconds\nMade predictions in 0.0008 seconds.\nF1 score for training set: 0.8591.\nMade predictions in 0.0007 seconds.\nF1 score for test set: 0.7838.\nTraining a SVC using a training set size of 200. . .\nTrained model in 0.0035 seconds\nMade predictions in 0.0023 seconds.\nF1 score for training set: 0.8693.\nMade predictions in 0.0012 seconds.\nF1 score for test set: 0.7755.\nTraining a SVC using a training set size of 300. . .\nTrained model in 0.0069 seconds\nMade predictions in 0.0040 seconds.\nF1 score for training set: 0.8692.\nMade predictions in 0.0015 seconds.\nF1 score for test set: 0.7586.\nTraining a DecisionTreeClassifier using a training set size of 100. . .\nTrained model in 0.0007 seconds\nMade predictions in 0.0002 seconds.\nF1 score for training set: 1.0000.\nMade predictions in 0.0001 seconds.\nF1 score for test set: 0.6942.\nTraining a DecisionTreeClassifier using a training set size of 200. . .\nTrained model in 0.0014 seconds\nMade predictions in 0.0002 seconds.\nF1 score for training set: 1.0000.\nMade predictions in 0.0001 seconds.\nF1 score for test set: 0.7132.\nTraining a DecisionTreeClassifier using a training set size of 300. . .\nTrained model in 0.0018 seconds\nMade predictions in 0.0002 seconds.\nF1 score for training set: 1.0000.\nMade predictions in 0.0001 seconds.\nF1 score for test set: 0.7167.\nTraining a RandomForestClassifier using a training set size of 100. . .\nTrained model in 0.0177 seconds\nMade predictions in 0.0008 seconds.\nF1 score for training set: 0.9841.\nMade predictions in 0.0015 seconds.\nF1 score for test set: 0.7119.\nTraining a RandomForestClassifier using a training set size of 200. . .\nTrained model in 0.0205 seconds\nMade predictions in 0.0012 seconds.\nF1 score for training set: 1.0000.\nMade predictions in 0.0009 seconds.\nF1 score for test set: 0.7761.\nTraining a RandomForestClassifier using a training set size of 300. . .\nTrained model in 0.0175 seconds\nMade predictions in 0.0012 seconds.\nF1 score for training set: 0.9976.\nMade predictions in 0.0008 seconds.\nF1 score for test set: 0.7344.\n"
     ]
    }
   ],
   "source": [
    "from sklearn import svm\n",
    "from sklearn import tree\n",
    "from sklearn.ensemble import RandomForestClassifier\n",
    "\n",
    "clf_A = svm.SVC(random_state=0)\n",
    "clf_B = tree.DecisionTreeClassifier(random_state=0)\n",
    "clf_C = RandomForestClassifier(random_state=0)\n",
    "\n",
    "for clf in [clf_A, clf_B, clf_C]:\n",
    "    for size in [100, 200, 300]:\n",
    "        train_predict(clf, X_train[:size], y_train[:size], X_test, y_test)"
   ]
  },
  {
   "cell_type": "markdown",
   "metadata": {},
   "source": [
    "### Tabular Results\n",
    "Edit the cell below to see how a table can be designed in [Markdown](https://github.com/adam-p/markdown-here/wiki/Markdown-Cheatsheet#tables). You can record your results from above in the tables provided."
   ]
  },
  {
   "cell_type": "markdown",
   "metadata": {},
   "source": [
    "** Classifer 1 - SVC** \n",
    "\n",
    "| Training Set Size | Training Time | Prediction Time (test) | F1 Score (train) | F1 Score (test) |\n",
    "| :---------------: | :---------------------: | :--------------------: | :--------------: | :-------------: |\n",
    "| 100               | 0.0049 seconds          | 0.0009 seconds         | 0.8591           | 0.7838          |\n",
    "| 200               | 0.0033 seconds          | 0.0010 seconds         | 0.8693           | 0.7755          |\n",
    "| 300               | 0.0062 seconds          | 0.0016 seconds         | 0.8692           | 0.7586          |\n",
    "\n",
    "** Classifer 2 - DecisionTreesClassifier**  \n",
    "\n",
    "| Training Set Size | Training Time | Prediction Time (test) | F1 Score (train) | F1 Score (test) |\n",
    "| :---------------: | :---------------------: | :--------------------: | :--------------: | :-------------: |\n",
    "| 100               | 0.0019 seconds          | 0.0004 seconds         | 1.0000           | 0.6942          |\n",
    "| 200               | 0.0018 seconds          | 0.0002 seconds         | 1.0000           | 0.7132          |\n",
    "| 300               | 0.0019 seconds          | 0.0002 seconds         | 1.0000           | 0.7167          |\n",
    "\n",
    "** Classifer 3 - RandomForestClassifier** \n",
    "\n",
    "| Training Set Size | Training Time | Prediction Time (test) | F1 Score (train) | F1 Score (test) |\n",
    "| :---------------: | :---------------------: | :--------------------: | :--------------: | :-------------: |\n",
    "| 100               | 0.0198 seconds          | 0.0008 seconds         | 0.9841           | 0.7119          |\n",
    "| 200               | 0.0155 seconds          | 0.0007 seconds         | 1.0000           | 0.7761          |\n",
    "| 300               | 0.0161 seconds          | 0.0008 seconds         | 0.9976           | 0.7344          |"
   ]
  },
  {
   "cell_type": "markdown",
   "metadata": {},
   "source": [
    "## Choosing the Best Model\n",
    "In this final section, you will choose from the three supervised learning models the *best* model to use on the student data. You will then perform a grid search optimization for the model over the entire training set (`X_train` and `y_train`) by tuning at least one parameter to improve upon the untuned model's F<sub>1</sub> score. "
   ]
  },
  {
   "cell_type": "markdown",
   "metadata": {},
   "source": [
    "### Question 3 - Choosing the Best Model\n",
    "*Based on the experiments you performed earlier, in one to two paragraphs, explain to the board of supervisors what single model you chose as the best model. Which model is generally the most appropriate based on the available data, limited resources, cost, and performance?*"
   ]
  },
  {
   "cell_type": "markdown",
   "metadata": {},
   "source": [
    "**Answer: DecisionTree is the best model, based on performence . It is simple, intuitive, and has smallest training and predicting time. Although prediction performence is the worst and model is overfitted, but we will impove it during grid search tunning and find optimal max tree depth and min split size.**"
   ]
  },
  {
   "cell_type": "markdown",
   "metadata": {},
   "source": [
    "### Question 4 - Model in Layman's Terms\n",
    "*In one to two paragraphs, explain to the board of directors in layman's terms how the final model chosen is supposed to work. Be sure that you are describing the major qualities of the model, such as how the model is trained and how the model makes a prediction. Avoid using advanced mathematical or technical jargon, such as describing equations or discussing the algorithm implementation.*\n"
   ]
  },
  {
   "cell_type": "markdown",
   "metadata": {},
   "source": [
    "**Answer: \n",
    "\n",
    "Our Decision Tree model will take data about past students called \"features\" (age, gender, family, etc), and use them to create a set of rules that can classify the students who passed vs those who did not.\n",
    "By looking at these features and determining which ones are important in deciding if a student passed, it creates a flowchart or \"tree\" that decides if a student will pass exams.\n",
    "For example, the model could find that if a student had less than 2 absences and had no romantic interest then he or she will pass exam. And for example, a student who has more than 50 absence and has romantic interest will probably fail\n",
    "Using this tree of decision points created with students we already know passed or not, we can look at new students' data and simply ask a question - 'Will student with such features pass exam?'\n",
    "\n",
    "Probaly the most efficient method of explanation would be to show this picture. \n",
    "\n",
    "https://annalyzin.files.wordpress.com/2016/07/decision-trees-example-tutorial.png **"
   ]
  },
  {
   "cell_type": "markdown",
   "metadata": {},
   "source": [
    "### Implementation: Model Tuning\n",
    "Fine tune the chosen model. Use grid search (`GridSearchCV`) with at least one important parameter tuned with at least 3 different values. You will need to use the entire training set for this. In the code cell below, you will need to implement the following:\n",
    "- Import [`sklearn.grid_search.gridSearchCV`](http://scikit-learn.org/stable/modules/generated/sklearn.grid_search.GridSearchCV.html) and [`sklearn.metrics.make_scorer`](http://scikit-learn.org/stable/modules/generated/sklearn.metrics.make_scorer.html).\n",
    "- Create a dictionary of parameters you wish to tune for the chosen model.\n",
    " - Example: `parameters = {'parameter' : [list of values]}`.\n",
    "- Initialize the classifier you've chosen and store it in `clf`.\n",
    "- Create the F<sub>1</sub> scoring function using `make_scorer` and store it in `f1_scorer`.\n",
    " - Set the `pos_label` parameter to the correct value!\n",
    "- Perform grid search on the classifier `clf` using `f1_scorer` as the scoring method, and store it in `grid_obj`.\n",
    "- Fit the grid search object to the training data (`X_train`, `y_train`), and store it in `grid_obj`."
   ]
  },
  {
   "cell_type": "code",
   "execution_count": 16,
   "metadata": {
    "collapsed": false
   },
   "outputs": [
    {
     "name": "stdout",
     "output_type": "stream",
     "text": [
      "Fitting 6 folds for each of 324 candidates, totalling 1944 fits\n"
     ]
    },
    {
     "name": "stderr",
     "output_type": "stream",
     "text": [
      "[Parallel(n_jobs=-1)]: Done 232 tasks      | elapsed:    0.6s\n"
     ]
    },
    {
     "name": "stdout",
     "output_type": "stream",
     "text": [
      "DecisionTreeClassifier(class_weight=None, criterion='gini', max_depth=4,\n            max_features='sqrt', max_leaf_nodes=5, min_samples_leaf=1,\n            min_samples_split=2, min_weight_fraction_leaf=0.1,\n            presort=False, random_state=0, splitter='best')\nMade predictions in 0.0003 seconds.\nTuned model has a training F1 score of 0.8261.\nMade predictions in 0.0001 seconds.\nTuned model has a testing F1 score of 0.8000.\n"
     ]
    },
    {
     "name": "stderr",
     "output_type": "stream",
     "text": [
      "[Parallel(n_jobs=-1)]: Done 1944 out of 1944 | elapsed:    2.5s finished\n"
     ]
    }
   ],
   "source": [
    "# TODO: Import 'GridSearchCV' and 'make_scorer'\n",
    "from sklearn import grid_search, metrics\n",
    "from sklearn.metrics import f1_score\n",
    "# TODO: Create the parameters list you wish to tune\n",
    "parameters = {'min_weight_fraction_leaf': [0.1,0.25,0.5],\n",
    "              'max_features': [None, 'sqrt', 'log2'],\n",
    "              'max_depth':[1,2,4,8],\n",
    "              'max_leaf_nodes':[2,5,10],\n",
    "              'min_samples_split':[2,5,10]\n",
    "              }\n",
    "\n",
    "# TODO: Initialize the classifier\n",
    "clf = tree.DecisionTreeClassifier(random_state=0)\n",
    "\n",
    "# TODO: Make an f1 scoring function using 'make_scorer' \n",
    "f1_scorer = metrics.make_scorer(f1_score, pos_label=\"yes\")\n",
    "\n",
    "# TODO: Perform grid search on the classifier using the f1_scorer as the scoring method\n",
    "grid_obj = grid_search.GridSearchCV(clf, parameters, cv=6,\n",
    "                        scoring=f1_scorer, verbose=1,\n",
    "                        n_jobs=-1, pre_dispatch='2*n_jobs')\n",
    "\n",
    "# TODO: Fit the grid search object to the training data and find the optimal parameters\n",
    "grid_obj = grid_obj.fit(X_train, y_train)\n",
    "\n",
    "# Get the estimator\n",
    "clf = grid_obj.best_estimator_\n",
    "\n",
    "print clf\n",
    "\n",
    "# Report the final F1 score for training and testing after parameter tuning\n",
    "print \"Tuned model has a training F1 score of {:.4f}.\".format(predict_labels(clf, X_train, y_train))\n",
    "print \"Tuned model has a testing F1 score of {:.4f}.\".format(predict_labels(clf, X_test, y_test))"
   ]
  },
  {
   "cell_type": "markdown",
   "metadata": {},
   "source": [
    "### Question 5 - Final F<sub>1</sub> Score\n",
    "*What is the final model's F<sub>1</sub> score for training and testing? How does that score compare to the untuned model?*"
   ]
  },
  {
   "cell_type": "markdown",
   "metadata": {},
   "source": [
    "**Answer: F1_training = 0.8261. F1_testing = 0.8000. 0.8000 > 0.7167**"
   ]
  },
  {
   "cell_type": "markdown",
   "metadata": {},
   "source": [
    "> **Note**: Once you have completed all of the code implementations and successfully answered each question above, you may finalize your work by exporting the iPython Notebook as an HTML document. You can do this by using the menu above and navigating to  \n",
    "**File -> Download as -> HTML (.html)**. Include the finished document along with this notebook as your submission."
   ]
  }
 ],
 "metadata": {
  "kernelspec": {
   "display_name": "Python 2",
   "language": "python",
   "name": "python2"
  },
  "language_info": {
   "codemirror_mode": {
    "name": "ipython",
    "version": 2.0
   },
   "file_extension": ".py",
   "mimetype": "text/x-python",
   "name": "python",
   "nbconvert_exporter": "python",
   "pygments_lexer": "ipython2",
   "version": "2.7.9"
  }
 },
 "nbformat": 4,
 "nbformat_minor": 0
}