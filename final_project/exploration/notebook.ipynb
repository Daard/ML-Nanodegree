{
 "cells": [
  {
   "cell_type": "code",
   "execution_count": 6,
   "metadata": {
    "collapsed": true
   },
   "outputs": [
    {
     "name": "stdout",
     "output_type": "stream",
     "text": [
      "Total number of images: 427\nNumber of features: 10\nNumber of 0: 142\nNumber of 1: 63\nNumber of 2: 34\nNumber of 4: 14\nNumber of 5: 174\n"
     ]
    },
    {
     "data": {
      "text/plain": [
       "<seaborn.axisgrid.FacetGrid at 0x111cede10>"
      ]
     },
     "execution_count": 6,
     "metadata": {},
     "output_type": "execute_result"
    },
    {
     "data": {
      "image/png": "[encoded data removed]",
      "text/plain": [
       "<matplotlib.figure.Figure at 0x1110a7bd0>"
      ]
     },
     "metadata": {},
     "output_type": "display_data"
    }
   ],
   "source": [
    "import seaborn as sns\n",
    "import pandas as pd      \n",
    "        \n",
    "files = [\"g1.csv\", \"g2.csv\", \"g3.csv\", \"g4.csv\", \"g5.csv\", \"g6.csv\"]       \n",
    "data = pd.concat([pd.read_csv(f) for f in files], ignore_index=True)\n",
    "       \n",
    "n_images = len(data)\n",
    "n_features = len(data.columns[:-1])\n",
    "n_good = len(data.loc[data['label'] == 0])\n",
    "n_not_bad = len(data.loc[data['label'] == 1])\n",
    "n_with_snow = len(data.loc[data['label'] == 2])\n",
    "n_snow_and_clouds = len(data.loc[data['label'] == 4])\n",
    "n_bad = len(data.loc[data['label'] == 5])\n",
    "\n",
    "    # Print the results\n",
    "print \"Total number of images: {}\".format(n_images)\n",
    "print \"Number of features: {}\".format(n_features)\n",
    "print \"Number of 0: {}\".format(n_good)\n",
    "print \"Number of 1: {}\".format(n_not_bad)\n",
    "print \"Number of 2: {}\".format(n_with_snow)\n",
    "print \"Number of 4: {}\".format(n_snow_and_clouds)\n",
    "print \"Number of 5: {}\".format(n_bad)\n",
    "\n",
    "%matplotlib inline\n",
    "sns.factorplot(x='label', data=data, hue='label', kind='count')"
   ]
  },
  {
   "cell_type": "code",
   "execution_count": 4,
   "metadata": {},
   "outputs": [],
   "source": [
    "from time import time\n",
    "from sklearn.metrics import f1_score\n",
    "\n",
    "def train_classifier(clf, X_train, y_train):\n",
    "    ''' Fits a classifier to the training data. '''\n",
    "    \n",
    "    # Start the clock, train the classifier, then stop the clock\n",
    "    start = time()\n",
    "    clf.fit(X_train, y_train)\n",
    "    end = time()\n",
    "    \n",
    "    # Print the results\n",
    "    print \"Trained model in {:.4f} seconds\".format(end - start)\n",
    "\n",
    "    \n",
    "def predict_labels(clf, features, target):\n",
    "    ''' Makes predictions using a fit classifier based on F1 score. '''\n",
    "    \n",
    "    # Start the clock, make predictions, then stop the clock\n",
    "    start = time()\n",
    "    y_pred = clf.predict(features)\n",
    "    end = time()\n",
    "    \n",
    "    # Print and return results\n",
    "    print \"Made predictions in {:.4f} seconds.\".format(end - start)\n",
    "    return f1_score(target.values, y_pred, pos_label='yes')\n",
    "\n",
    "\n",
    "def train_predict(clf, X_train, y_train, X_test, y_test):\n",
    "    ''' Train and predict using a classifer based on F1 score. '''\n",
    "    \n",
    "    # Indicate the classifier and the training set size\n",
    "    print \"Training a {} using a training set size of {}. . .\".format(clf.__class__.__name__, len(X_train))\n",
    "    \n",
    "    # Train the classifier\n",
    "    train_classifier(clf, X_train, y_train)\n",
    "    \n",
    "    # Print the results of prediction for both training and testing\n",
    "    print \"F1 score for training set: {:.4f}.\".format(predict_labels(clf, X_train, y_train))\n",
    "    print \"F1 score for test set: {:.4f}.\".format(predict_labels(clf, X_test, y_test))"
   ]
  },
  {
   "cell_type": "code",
   "execution_count": 13,
   "metadata": {},
   "outputs": [
    {
     "name": "stdout",
     "output_type": "stream",
     "text": [
      "Training a SVC using a training set size of 300. . .\nTrained model in 0.0034 seconds\nMade predictions in 0.0015 seconds.\nF1 score for training set: 0.8097.\nMade predictions in 0.0007 seconds.\nF1 score for test set: 0.8357.\nTraining a DecisionTreeClassifier using a training set size of 300. . .\nTrained model in 0.0014 seconds\nMade predictions in 0.0001 seconds.\nF1 score for training set: 1.0000.\nMade predictions in 0.0001 seconds.\nF1 score for test set: 0.9170.\nTraining a RandomForestClassifier using a training set size of 300. . .\nTrained model in 0.0280 seconds\nMade predictions in 0.0012 seconds.\nF1 score for training set: 0.9866.\nMade predictions in 0.0008 seconds.\nF1 score for test set: 0.8798.\nTraining a ExtraTreesClassifier using a training set size of 300. . .\nTrained model in 0.0209 seconds\nMade predictions in 0.0011 seconds.\nF1 score for training set: 1.0000.\nMade predictions in 0.0008 seconds.\nF1 score for test set: 0.8855.\nTraining a AdaBoostClassifier using a training set size of 300. . .\nTrained model in 0.1153 seconds\nMade predictions in 0.0078 seconds.\nF1 score for training set: 0.7467.\nMade predictions in 0.0058 seconds.\nF1 score for test set: 0.7755.\n"
     ]
    },
    {
     "name": "stderr",
     "output_type": "stream",
     "text": [
      "/usr/local/lib/python2.7/site-packages/sklearn/svm/base.py:514: DataConversionWarning: A column-vector y was passed when a 1d array was expected. Please change the shape of y to (n_samples, ), for example using ravel().\n  y_ = column_or_1d(y, warn=True)\n/usr/local/lib/python2.7/site-packages/sklearn/metrics/classification.py:756: DeprecationWarning: The default `weighted` averaging is deprecated, and from version 0.18, use of precision, recall or F-score with multiclass or multilabel data or pos_label=None will result in an exception. Please set an explicit value for `average`, one of (None, 'micro', 'macro', 'weighted', 'samples'). In cross validation use, for instance, scoring=\"f1_weighted\" instead of scoring=\"f1\".\n  sample_weight=sample_weight)\n/usr/local/lib/python2.7/site-packages/sklearn/metrics/classification.py:756: DeprecationWarning: The default `weighted` averaging is deprecated, and from version 0.18, use of precision, recall or F-score with multiclass or multilabel data or pos_label=None will result in an exception. Please set an explicit value for `average`, one of (None, 'micro', 'macro', 'weighted', 'samples'). In cross validation use, for instance, scoring=\"f1_weighted\" instead of scoring=\"f1\".\n  sample_weight=sample_weight)\n/usr/local/lib/python2.7/site-packages/sklearn/metrics/classification.py:756: DeprecationWarning: The default `weighted` averaging is deprecated, and from version 0.18, use of precision, recall or F-score with multiclass or multilabel data or pos_label=None will result in an exception. Please set an explicit value for `average`, one of (None, 'micro', 'macro', 'weighted', 'samples'). In cross validation use, for instance, scoring=\"f1_weighted\" instead of scoring=\"f1\".\n  sample_weight=sample_weight)\n/usr/local/lib/python2.7/site-packages/sklearn/metrics/classification.py:756: DeprecationWarning: The default `weighted` averaging is deprecated, and from version 0.18, use of precision, recall or F-score with multiclass or multilabel data or pos_label=None will result in an exception. Please set an explicit value for `average`, one of (None, 'micro', 'macro', 'weighted', 'samples'). In cross validation use, for instance, scoring=\"f1_weighted\" instead of scoring=\"f1\".\n  sample_weight=sample_weight)\n/usr/local/lib/python2.7/site-packages/ipykernel/__main__.py:9: DataConversionWarning: A column-vector y was passed when a 1d array was expected. Please change the shape of y to (n_samples,), for example using ravel().\n/usr/local/lib/python2.7/site-packages/sklearn/metrics/classification.py:756: DeprecationWarning: The default `weighted` averaging is deprecated, and from version 0.18, use of precision, recall or F-score with multiclass or multilabel data or pos_label=None will result in an exception. Please set an explicit value for `average`, one of (None, 'micro', 'macro', 'weighted', 'samples'). In cross validation use, for instance, scoring=\"f1_weighted\" instead of scoring=\"f1\".\n  sample_weight=sample_weight)\n/usr/local/lib/python2.7/site-packages/sklearn/metrics/classification.py:756: DeprecationWarning: The default `weighted` averaging is deprecated, and from version 0.18, use of precision, recall or F-score with multiclass or multilabel data or pos_label=None will result in an exception. Please set an explicit value for `average`, one of (None, 'micro', 'macro', 'weighted', 'samples'). In cross validation use, for instance, scoring=\"f1_weighted\" instead of scoring=\"f1\".\n  sample_weight=sample_weight)\n/usr/local/lib/python2.7/site-packages/ipykernel/__main__.py:9: DataConversionWarning: A column-vector y was passed when a 1d array was expected. Please change the shape of y to (n_samples,), for example using ravel().\n/usr/local/lib/python2.7/site-packages/sklearn/metrics/classification.py:756: DeprecationWarning: The default `weighted` averaging is deprecated, and from version 0.18, use of precision, recall or F-score with multiclass or multilabel data or pos_label=None will result in an exception. Please set an explicit value for `average`, one of (None, 'micro', 'macro', 'weighted', 'samples'). In cross validation use, for instance, scoring=\"f1_weighted\" instead of scoring=\"f1\".\n  sample_weight=sample_weight)\n/usr/local/lib/python2.7/site-packages/sklearn/metrics/classification.py:756: DeprecationWarning: The default `weighted` averaging is deprecated, and from version 0.18, use of precision, recall or F-score with multiclass or multilabel data or pos_label=None will result in an exception. Please set an explicit value for `average`, one of (None, 'micro', 'macro', 'weighted', 'samples'). In cross validation use, for instance, scoring=\"f1_weighted\" instead of scoring=\"f1\".\n  sample_weight=sample_weight)\n/usr/local/lib/python2.7/site-packages/sklearn/utils/validation.py:515: DataConversionWarning: A column-vector y was passed when a 1d array was expected. Please change the shape of y to (n_samples, ), for example using ravel().\n  y = column_or_1d(y, warn=True)\n/usr/local/lib/python2.7/site-packages/sklearn/metrics/classification.py:756: DeprecationWarning: The default `weighted` averaging is deprecated, and from version 0.18, use of precision, recall or F-score with multiclass or multilabel data or pos_label=None will result in an exception. Please set an explicit value for `average`, one of (None, 'micro', 'macro', 'weighted', 'samples'). In cross validation use, for instance, scoring=\"f1_weighted\" instead of scoring=\"f1\".\n  sample_weight=sample_weight)\n/usr/local/lib/python2.7/site-packages/sklearn/metrics/classification.py:756: DeprecationWarning: The default `weighted` averaging is deprecated, and from version 0.18, use of precision, recall or F-score with multiclass or multilabel data or pos_label=None will result in an exception. Please set an explicit value for `average`, one of (None, 'micro', 'macro', 'weighted', 'samples'). In cross validation use, for instance, scoring=\"f1_weighted\" instead of scoring=\"f1\".\n  sample_weight=sample_weight)\n"
     ]
    }
   ],
   "source": [
    "from sklearn import svm\n",
    "from sklearn import tree\n",
    "from sklearn.ensemble import RandomForestClassifier\n",
    "from sklearn.ensemble import ExtraTreesClassifier\n",
    "from sklearn.cross_validation import train_test_split\n",
    "from sklearn.ensemble import AdaBoostClassifier\n",
    "\n",
    "X_all = data.copy()\n",
    "X_all.drop(['name', 'label'], axis=1, inplace=True)\n",
    "\n",
    "y_all = data[['label']]\n",
    "\n",
    "num_train = 300\n",
    "\n",
    "\n",
    "\n",
    "# Set the number of testing points\n",
    "num_test = data.shape[0] - num_train\n",
    "\n",
    "X_train, X_test, y_train, y_test = train_test_split(X_all, y_all, test_size=num_test, random_state=0)\n",
    "\n",
    "\n",
    "clf_A = svm.SVC(random_state=0)\n",
    "clf_B = tree.DecisionTreeClassifier(random_state=0)\n",
    "clf_C = RandomForestClassifier(random_state=0)\n",
    "clf_D = ExtraTreesClassifier(random_state=0)\n",
    "# clf_C = RandomForestClassifier(n_estimators=10, max_depth=None, min_samples_split=2, random_state=0)\n",
    "# clf_D = ExtraTreesClassifier(n_estimators=10, max_depth=None, min_samples_split=2, random_state=0)\n",
    "clf_E = AdaBoostClassifier(random_state=0)\n",
    "\n",
    "for clf in [clf_A, clf_B, clf_C, clf_D, clf_E]:\n",
    "    for size in [300]:\n",
    "        train_predict(clf, X_train[:size], y_train[:size], X_test, y_test)"
   ]
  },
  {
   "cell_type": "code",
   "execution_count": null,
   "metadata": {},
   "outputs": [],
   "source": [
    ""
   ]
  }
 ],
 "metadata": {
  "kernelspec": {
   "display_name": "Python 2",
   "language": "python",
   "name": "python2"
  },
  "language_info": {
   "codemirror_mode": {
    "name": "ipython",
    "version": 2.0
   },
   "file_extension": ".py",
   "mimetype": "text/x-python",
   "name": "python",
   "nbconvert_exporter": "python",
   "pygments_lexer": "ipython2",
   "version": "2.7.6"
  }
 },
 "nbformat": 4,
 "nbformat_minor": 0
}